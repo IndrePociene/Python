{
 "cells": [
  {
   "cell_type": "code",
   "execution_count": 2,
   "metadata": {},
   "outputs": [],
   "source": [
    "from csv import reader\n",
    "\n",
    "respondentai = []\n",
    "\n",
    "with open('2018.csv', encoding='utf8') as failas:\n",
    "    csv_readeris = reader(failas)\n",
    "    next(csv_readeris) \n",
    "    next(csv_readeris) \n",
    "    for eilute in csv_readeris:\n",
    "        if eilute[7] == 'Vilniuje' or eilute[7] == 'VIlnius' or eilute[7] == 'Vinius' or eilute[7] == 'Vilnius ':\n",
    "            miestas = 'Vilnius'\n",
    "        elif eilute[7] == 'Kaunas ':\n",
    "            miestas = 'Kaunas'\n",
    "        else:\n",
    "            miestas = eilute[7]\n",
    "        resp = {\n",
    "            'kalba': eilute[4],\n",
    "            'lygis': int(eilute[5]) if eilute[5] else 0,\n",
    "            'miestas': miestas,\n",
    "            'atlyginimas': int(eilute[8]) if eilute[8] else 0  \n",
    "        }\n",
    "        respondentai.append(resp)\n",
    "\n",
    "\n",
    "#print(respondentai)\n"
   ]
  },
  {
   "cell_type": "code",
   "execution_count": 3,
   "metadata": {},
   "outputs": [
    {
     "name": "stdout",
     "output_type": "stream",
     "text": [
      "Programavimo kalbos: {'JavaScript', '.NET', 'PHP', 'Other', 'Golang', 'JAVA', 'Python', 'Ruby', 'C++', 'SQL', 'Objective-C', 'Node.js'}\n"
     ]
    }
   ],
   "source": [
    "#KALBOS\n",
    "pr_kalba = []\n",
    "\n",
    "for resp in respondentai:\n",
    "    pr_kalba.append(resp['kalba'])\n",
    "#print(pr_kalba)\n",
    "skirt_kalbos = set(pr_kalba)\n",
    "print('Programavimo kalbos:', skirt_kalbos)"
   ]
  },
  {
   "cell_type": "code",
   "execution_count": 4,
   "metadata": {},
   "outputs": [
    {
     "name": "stdout",
     "output_type": "stream",
     "text": [
      "Miestai: {'Kaunas', 'Klaipėda', 'Užsienis', 'Šiauliai', 'Panevėžys', 'Kita', 'Vilnius'}\n"
     ]
    }
   ],
   "source": [
    "#MIESTAI\n",
    "miestai = []     \n",
    "\n",
    "for resp in respondentai:\n",
    "    miestai.append(resp['miestas'])\n",
    "#print(miestai)\n",
    "skirt_miestai = set(miestai)\n",
    "print('Miestai:', skirt_miestai )\n"
   ]
  },
  {
   "cell_type": "code",
   "execution_count": 5,
   "metadata": {},
   "outputs": [
    {
     "name": "stdout",
     "output_type": "stream",
     "text": [
      "Didžiausias atlyginimas: 10000\n",
      "Mažiausias atlyginimas: 200\n",
      "Atlyginimų vidurkis: 1624.67\n"
     ]
    }
   ],
   "source": [
    "#VIDURKIO SKAICIAVIMAS\n",
    "atlyginimai = []\n",
    "for resp in respondentai:\n",
    "    atlyginimai.append(resp['atlyginimas'])\n",
    "#print(atlyginimai)\n",
    "didz = max(atlyginimai)\n",
    "print('Didžiausias atlyginimas:', didz)\n",
    "maz = min(atlyginimai)\n",
    "print('Mažiausias atlyginimas:', maz)\n",
    "#print('Atlyginimai:', list(skirt_atlyginimai))\n",
    "print('Atlyginimų vidurkis:', round(sum(list(atlyginimai))/ len(atlyginimai),2) )"
   ]
  },
  {
   "cell_type": "code",
   "execution_count": 6,
   "metadata": {},
   "outputs": [
    {
     "name": "stdout",
     "output_type": "stream",
     "text": [
      "1-junior lygio darbuotojų atlyginimo vidurkis: 876.27\n",
      "2-mid lygio darbuotojų atlyginimo vidurkis: 1454.67\n",
      "3-senior lygio darbuotojų atlyginimo vidurkis: 2665.42\n",
      "Darbuotojų, nenurodžiusių lygio, atlyginimų vidurkis: 1400.0\n"
     ]
    }
   ],
   "source": [
    "#ATLYGINIMŲ VIDURKIAI PAGAL LYGIUS\n",
    "\n",
    "atlyginimai1 = [resp['atlyginimas'] for resp in respondentai if resp['lygis'] == 1]  \n",
    "vidurkis1 = round(sum(atlyginimai1)/len(atlyginimai1), 2)\n",
    "print('1-junior lygio darbuotojų atlyginimo vidurkis:', vidurkis1 )\n",
    "\n",
    "atlyginimai2 = [resp['atlyginimas'] for resp in respondentai if resp['lygis'] == 2]  \n",
    "vidurkis2 = round(sum(atlyginimai2)/len(atlyginimai2), 2)\n",
    "print('2-mid lygio darbuotojų atlyginimo vidurkis:', vidurkis2 )\n",
    "\n",
    "atlyginimai3 = [resp['atlyginimas'] for resp in respondentai if resp['lygis'] == 3]  \n",
    "vidurkis3 = round(sum(atlyginimai3)/len(atlyginimai3), 2)\n",
    "print('3-senior lygio darbuotojų atlyginimo vidurkis:', vidurkis3 )\n",
    "\n",
    "atlyginimai_n = [resp['atlyginimas'] for resp in respondentai if resp['lygis'] == 0]  \n",
    "vidurkis_n = round(sum(atlyginimai_n)/len(atlyginimai_n), 2)\n",
    "print('Darbuotojų, nenurodžiusių lygio, atlyginimų vidurkis:', vidurkis_n )\n",
    "\n"
   ]
  },
  {
   "cell_type": "code",
   "execution_count": 7,
   "metadata": {},
   "outputs": [],
   "source": [
    "with open('atsiskaitymo_atsakymai.txt', 'w', encoding = 'utf8') as isvedimas:\n",
    "\n",
    "    isvedimas.write(f'Skirtingos programavimo kalbos: {skirt_kalbos}\\n')\n",
    "    isvedimas.write(f'Skirtingi miestai: {skirt_miestai}\\n')\n",
    "    isvedimas.write(f'Didžiausias atlyginimas: {didz}\\n')\n",
    "    isvedimas.write(f'Mažiausias atlyginimas: {maz}\\n')\n",
    "    isvedimas.write(f'Bendras atlyginimų vidurkis: {round(sum(list(atlyginimai))/ len(atlyginimai),2)}\\n')\n",
    "    isvedimas.write(f'Atlyginimų vidurkiai pagal lygius:\\n')\n",
    "    isvedimas.write(f'1-junior lygio darbuotojų atlyginimo vidurkis: {vidurkis1}\\n')\n",
    "    isvedimas.write(f'2-mid lygio darbuotojų atlyginimo vidurkis: {vidurkis2}\\n')\n",
    "    isvedimas.write(f'3-senior lygio darbuotojų atlyginimo vidurkis: {vidurkis3}\\n')\n",
    "    isvedimas.write(f'Darbuotojų, nenurodžiusių lygio, atlyginimų vidurkis: {vidurkis_n}')\n"
   ]
  }
 ],
 "metadata": {
  "kernelspec": {
   "display_name": "Python 3",
   "language": "python",
   "name": "python3"
  },
  "language_info": {
   "codemirror_mode": {
    "name": "ipython",
    "version": 3
   },
   "file_extension": ".py",
   "mimetype": "text/x-python",
   "name": "python",
   "nbconvert_exporter": "python",
   "pygments_lexer": "ipython3",
   "version": "3.11.2"
  },
  "orig_nbformat": 4
 },
 "nbformat": 4,
 "nbformat_minor": 2
}
